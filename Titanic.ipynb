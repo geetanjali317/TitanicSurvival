{
 "cells": [
  {
   "cell_type": "markdown",
   "id": "9c2df129-323d-492e-86f0-d6c7b3a75832",
   "metadata": {},
   "source": [
    "# Setup"
   ]
  },
  {
   "cell_type": "code",
   "execution_count": 8,
   "id": "9758ed7f-d4be-4e10-bf32-907df842bf13",
   "metadata": {},
   "outputs": [],
   "source": [
    "import numpy as np\n",
    "import pandas as pd\n",
    "import matplotlib.pyplot as plt\n",
    "import seaborn as sns"
   ]
  },
  {
   "cell_type": "markdown",
   "id": "ee7350bc-fec7-424f-abdb-e6bcc52941c2",
   "metadata": {},
   "source": [
    "# Importing Libraries"
   ]
  },
  {
   "cell_type": "code",
   "execution_count": 10,
   "id": "de0054ba-f3e8-4a10-a871-d11bc417e78f",
   "metadata": {},
   "outputs": [],
   "source": [
    "train = pd.read_csv(r\"C:\\Users\\KodavatiGeetanjali\\Desktop\\ML\\titanic\\train.csv\")\n",
    "test  = pd.read_csv(r\"C:\\Users\\KodavatiGeetanjali\\Desktop\\ML\\titanic\\test.csv\")"
   ]
  },
  {
   "cell_type": "code",
   "execution_count": 11,
   "id": "6bfdb949-e5ba-488d-9ace-c04c0fc56a3c",
   "metadata": {},
   "outputs": [
    {
     "data": {
      "text/html": [
       "<div>\n",
       "<style scoped>\n",
       "    .dataframe tbody tr th:only-of-type {\n",
       "        vertical-align: middle;\n",
       "    }\n",
       "\n",
       "    .dataframe tbody tr th {\n",
       "        vertical-align: top;\n",
       "    }\n",
       "\n",
       "    .dataframe thead th {\n",
       "        text-align: right;\n",
       "    }\n",
       "</style>\n",
       "<table border=\"1\" class=\"dataframe\">\n",
       "  <thead>\n",
       "    <tr style=\"text-align: right;\">\n",
       "      <th></th>\n",
       "      <th>PassengerId</th>\n",
       "      <th>Survived</th>\n",
       "      <th>Pclass</th>\n",
       "      <th>Name</th>\n",
       "      <th>Sex</th>\n",
       "      <th>Age</th>\n",
       "      <th>SibSp</th>\n",
       "      <th>Parch</th>\n",
       "      <th>Ticket</th>\n",
       "      <th>Fare</th>\n",
       "      <th>Cabin</th>\n",
       "      <th>Embarked</th>\n",
       "    </tr>\n",
       "  </thead>\n",
       "  <tbody>\n",
       "    <tr>\n",
       "      <th>0</th>\n",
       "      <td>1</td>\n",
       "      <td>0</td>\n",
       "      <td>3</td>\n",
       "      <td>Braund, Mr. Owen Harris</td>\n",
       "      <td>male</td>\n",
       "      <td>22.0</td>\n",
       "      <td>1</td>\n",
       "      <td>0</td>\n",
       "      <td>A/5 21171</td>\n",
       "      <td>7.2500</td>\n",
       "      <td>NaN</td>\n",
       "      <td>S</td>\n",
       "    </tr>\n",
       "    <tr>\n",
       "      <th>1</th>\n",
       "      <td>2</td>\n",
       "      <td>1</td>\n",
       "      <td>1</td>\n",
       "      <td>Cumings, Mrs. John Bradley (Florence Briggs Th...</td>\n",
       "      <td>female</td>\n",
       "      <td>38.0</td>\n",
       "      <td>1</td>\n",
       "      <td>0</td>\n",
       "      <td>PC 17599</td>\n",
       "      <td>71.2833</td>\n",
       "      <td>C85</td>\n",
       "      <td>C</td>\n",
       "    </tr>\n",
       "    <tr>\n",
       "      <th>2</th>\n",
       "      <td>3</td>\n",
       "      <td>1</td>\n",
       "      <td>3</td>\n",
       "      <td>Heikkinen, Miss. Laina</td>\n",
       "      <td>female</td>\n",
       "      <td>26.0</td>\n",
       "      <td>0</td>\n",
       "      <td>0</td>\n",
       "      <td>STON/O2. 3101282</td>\n",
       "      <td>7.9250</td>\n",
       "      <td>NaN</td>\n",
       "      <td>S</td>\n",
       "    </tr>\n",
       "    <tr>\n",
       "      <th>3</th>\n",
       "      <td>4</td>\n",
       "      <td>1</td>\n",
       "      <td>1</td>\n",
       "      <td>Futrelle, Mrs. Jacques Heath (Lily May Peel)</td>\n",
       "      <td>female</td>\n",
       "      <td>35.0</td>\n",
       "      <td>1</td>\n",
       "      <td>0</td>\n",
       "      <td>113803</td>\n",
       "      <td>53.1000</td>\n",
       "      <td>C123</td>\n",
       "      <td>S</td>\n",
       "    </tr>\n",
       "    <tr>\n",
       "      <th>4</th>\n",
       "      <td>5</td>\n",
       "      <td>0</td>\n",
       "      <td>3</td>\n",
       "      <td>Allen, Mr. William Henry</td>\n",
       "      <td>male</td>\n",
       "      <td>35.0</td>\n",
       "      <td>0</td>\n",
       "      <td>0</td>\n",
       "      <td>373450</td>\n",
       "      <td>8.0500</td>\n",
       "      <td>NaN</td>\n",
       "      <td>S</td>\n",
       "    </tr>\n",
       "  </tbody>\n",
       "</table>\n",
       "</div>"
      ],
      "text/plain": [
       "   PassengerId  Survived  Pclass  \\\n",
       "0            1         0       3   \n",
       "1            2         1       1   \n",
       "2            3         1       3   \n",
       "3            4         1       1   \n",
       "4            5         0       3   \n",
       "\n",
       "                                                Name     Sex   Age  SibSp  \\\n",
       "0                            Braund, Mr. Owen Harris    male  22.0      1   \n",
       "1  Cumings, Mrs. John Bradley (Florence Briggs Th...  female  38.0      1   \n",
       "2                             Heikkinen, Miss. Laina  female  26.0      0   \n",
       "3       Futrelle, Mrs. Jacques Heath (Lily May Peel)  female  35.0      1   \n",
       "4                           Allen, Mr. William Henry    male  35.0      0   \n",
       "\n",
       "   Parch            Ticket     Fare Cabin Embarked  \n",
       "0      0         A/5 21171   7.2500   NaN        S  \n",
       "1      0          PC 17599  71.2833   C85        C  \n",
       "2      0  STON/O2. 3101282   7.9250   NaN        S  \n",
       "3      0            113803  53.1000  C123        S  \n",
       "4      0            373450   8.0500   NaN        S  "
      ]
     },
     "execution_count": 11,
     "metadata": {},
     "output_type": "execute_result"
    }
   ],
   "source": [
    "train.head()"
   ]
  },
  {
   "cell_type": "markdown",
   "id": "858d0956-9849-4421-9eaa-b2831c5cff6c",
   "metadata": {},
   "source": [
    "# **Data Preprocessing**"
   ]
  },
  {
   "cell_type": "code",
   "execution_count": 13,
   "id": "e9de0fc4-3ec3-49a4-858b-82643e139156",
   "metadata": {},
   "outputs": [
    {
     "name": "stdout",
     "output_type": "stream",
     "text": [
      "PassengerId      0\n",
      "Survived         0\n",
      "Pclass           0\n",
      "Name             0\n",
      "Sex              0\n",
      "Age            177\n",
      "SibSp            0\n",
      "Parch            0\n",
      "Ticket           0\n",
      "Fare             0\n",
      "Cabin          687\n",
      "Embarked         2\n",
      "dtype: int64\n"
     ]
    }
   ],
   "source": [
    "print(train.isnull().sum())"
   ]
  },
  {
   "cell_type": "markdown",
   "id": "c2885dd5-0873-46e3-867a-f84b941f2436",
   "metadata": {},
   "source": [
    "# **Finding Relashionship**"
   ]
  },
  {
   "cell_type": "markdown",
   "id": "08c72432-0510-4980-a406-d99d4f0c47f6",
   "metadata": {},
   "source": [
    "# Survival by Sex"
   ]
  },
  {
   "cell_type": "markdown",
   "id": "d3890fe2-5d8d-46a1-8d3a-0e2dc1bcf8b2",
   "metadata": {},
   "source": [
    "## for sex we clearly see that the women had a great advantage for Surviving,¶\n",
    "## mostly because of the (women and children first) protocols that was used before"
   ]
  },
  {
   "cell_type": "code",
   "execution_count": 17,
   "id": "bb674ed0-9ee1-4b5d-95e1-0ce5137f84eb",
   "metadata": {},
   "outputs": [
    {
     "name": "stdout",
     "output_type": "stream",
     "text": [
      "Sex\n",
      "female    0.742038\n",
      "male      0.188908\n",
      "Name: Survived, dtype: float64\n",
      "\n",
      "\n"
     ]
    },
    {
     "data": {
      "image/png": "[encoded data removed]",
      "text/plain": [
       "<Figure size 800x600 with 1 Axes>"
      ]
     },
     "metadata": {},
     "output_type": "display_data"
    }
   ],
   "source": [
    "# Calculate survival rates by Sex\n",
    "survival_by_sex = train.groupby('Sex')['Survived'].mean()\n",
    "print(survival_by_sex)\n",
    "print(\"\\n\")\n",
    "\n",
    "#Plot survival rate by sex\n",
    "plt.figure(figsize=(8,6))\n",
    "sns.barplot(x='Sex', y='Survived', data=train, hue='Sex', errorbar=None)\n",
    "plt.title('Survival rate by Sex')\n",
    "plt.ylabel('Survival Rate')\n",
    "plt.show()"
   ]
  },
  {
   "cell_type": "markdown",
   "id": "b33a9abe-cdec-43cb-b3c3-a4cc2811d3b8",
   "metadata": {},
   "source": [
    "## This stark difference highlights gender as a critical factor influencing survival."
   ]
  },
  {
   "cell_type": "markdown",
   "id": "9113c20f-8905-4381-b313-62316df51257",
   "metadata": {},
   "source": [
    "# Survival rate by Age Group:"
   ]
  },
  {
   "cell_type": "markdown",
   "id": "4b51e2e3-a722-4d62-9a94-639cc4810f80",
   "metadata": {},
   "source": [
    "## Children (babies and young children) had notably higher survival rates, likely due to prioritization in lifeboat allocation.¶\n",
    "## Adults and teenagers generally experienced lower survival rates, potentially reflecting the prioritization of vulnerable groups and physical limitations during evacuation.\n",
    "## The significantly lower survival rate for older passengers (> 60 years) suggests challenges faced by elderly individuals in emergency evacuation scenarios.\n"
   ]
  },
  {
   "cell_type": "code",
   "execution_count": 21,
   "id": "6a4dd872-146c-498d-9658-dc79cc89d4cc",
   "metadata": {},
   "outputs": [
    {
     "name": "stdout",
     "output_type": "stream",
     "text": [
      "Survival rate by Age Group:\n",
      "AgeGroup\n",
      "Baby        0.704545\n",
      "Child       0.424242\n",
      "Teenager    0.403226\n",
      "Adult       0.355556\n",
      "OldAdult    0.420495\n",
      "Old         0.227273\n",
      "Name: Survived, dtype: float64\n",
      "\n",
      "\n"
     ]
    }
   ],
   "source": [
    "train['AgeGroup'] = pd.cut(train['Age'], bins = [0,5,14, 18, 30, 60, 100], labels=['Baby', 'Child', 'Teenager', 'Adult', 'OldAdult', 'Old'])\n",
    "survival_by_age = train.groupby('AgeGroup', observed=True)['Survived'].mean()\n",
    "\n",
    "print(\"Survival rate by Age Group:\")\n",
    "print(survival_by_age)\n",
    "print(\"\\n\")"
   ]
  },
  {
   "cell_type": "code",
   "execution_count": 22,
   "id": "1cc7f76e-e848-4504-b3ea-0c224f1f5793",
   "metadata": {},
   "outputs": [
    {
     "data": {
      "image/png": "[encoded data removed]",
      "text/plain": [
       "<Figure size 800x600 with 1 Axes>"
      ]
     },
     "metadata": {},
     "output_type": "display_data"
    }
   ],
   "source": [
    "# #Plot survival rate by Age\n",
    "plt.figure(figsize=(8,6))\n",
    "sns.barplot(x='AgeGroup', y='Survived', data=train, errorbar=None, hue='AgeGroup', order=['Baby', 'Child', 'Teenager', 'Adult', 'OldAdult', 'Old'])\n",
    "plt.title('Survival rate by Age Group')\n",
    "plt.ylabel('Survival Rate')\n",
    "plt.show()"
   ]
  },
  {
   "cell_type": "markdown",
   "id": "18140627-8bce-4218-9586-d59feaebbeb7",
   "metadata": {},
   "source": [
    "# Survival by Pclass"
   ]
  },
  {
   "cell_type": "markdown",
   "id": "4082f4ea-ef7d-48ff-a52f-567f32846496",
   "metadata": {},
   "source": [
    "## First-class passengers (62.96% survival rate) had higher survival rates, possibly due to their proximity to lifeboats and priority access during evacuation.¶\n",
    "## Third-class passengers (24.24% survival rate) faced the lowest survival rates, likely due to their lower deck locations and delayed access to lifeboats.\n",
    "## Passenger class serves as a proxy for socio-economic status, highlighting disparities in survival linked to wealth and access to resources during the Titanic disaster"
   ]
  },
  {
   "cell_type": "code",
   "execution_count": 25,
   "id": "17c437b5-314f-4da4-b19d-cba9f6cb8dcd",
   "metadata": {},
   "outputs": [
    {
     "name": "stdout",
     "output_type": "stream",
     "text": [
      "Sex\n",
      "female    0.742038\n",
      "male      0.188908\n",
      "Name: Survived, dtype: float64\n",
      "\n",
      "\n"
     ]
    },
    {
     "data": {
      "image/png": "[encoded data removed]",
      "text/plain": [
       "<Figure size 800x600 with 1 Axes>"
      ]
     },
     "metadata": {},
     "output_type": "display_data"
    }
   ],
   "source": [
    "# Calculate survival rates by Pclass\n",
    "survival_by_pclass = train.groupby('Pclass', observed=False)['Survived'].mean()\n",
    "print(survival_by_sex)\n",
    "print(\"\\n\")\n",
    "\n",
    "#Plot survival rate by sex\n",
    "plt.figure(figsize=(8,6))\n",
    "sns.barplot(x='Pclass', y='Survived', data=train, hue='Pclass', errorbar=None)\n",
    "plt.title('Survival rate by Pclass')\n",
    "plt.ylabel('Survival Rate')\n",
    "plt.show()"
   ]
  },
  {
   "cell_type": "markdown",
   "id": "acf719c0-7593-4064-9c1c-336bbcc801b4",
   "metadata": {},
   "source": [
    "# Survival by Fare Group"
   ]
  },
  {
   "cell_type": "markdown",
   "id": "dd1c42d2-5590-4fda-861d-606c8267bf6e",
   "metadata": {},
   "source": [
    "\n",
    "## Passengers who paid higher fares (e.g., Very High and Luxury fare classes) had significantly higher survival rates, likely reflecting their accommodations closer to lifeboats and priority boarding.¶\n",
    "## Conversely, passengers who paid lower fares (e.g., Very Low fare class) had a 0% survival rate, underscoring challenges faced by passengers in lower fare categories during the evacuation.\n",
    "## Fare class serves as a proxy for passenger location on the ship and access to evacuation resources, illustrating its impact on survival outcomes.\n"
   ]
  },
  {
   "cell_type": "code",
   "execution_count": 28,
   "id": "696ed801-56a5-4901-8c6d-ac0f94d787bd",
   "metadata": {},
   "outputs": [
    {
     "name": "stdout",
     "output_type": "stream",
     "text": [
      "Survival rate by Fare Group:\n",
      "FareClass\n",
      "Very Low     0.000000\n",
      "Low          0.256236\n",
      "Moderate     0.464646\n",
      "Medium       0.419540\n",
      "High         0.654206\n",
      "Very High    0.727273\n",
      "Luxury       0.777778\n",
      "Name: Survived, dtype: float64\n",
      "\n",
      "\n"
     ]
    }
   ],
   "source": [
    "train['FareClass'] = pd.cut(train['Fare'], bins = [0,5,15, 25, 50, 100, 250, float('inf')], labels=['Very Low', 'Low', 'Moderate', 'Medium', 'High', 'Very High', 'Luxury'])\n",
    "survival_by_fare = train.groupby('FareClass', observed=True)['Survived'].mean()\n",
    "\n",
    "print(\"Survival rate by Fare Group:\")\n",
    "print(survival_by_fare)\n",
    "print(\"\\n\")"
   ]
  },
  {
   "cell_type": "code",
   "execution_count": 29,
   "id": "e6c01b51-1332-4a6e-8ce3-2e2005bf1647",
   "metadata": {},
   "outputs": [
    {
     "data": {
      "image/png": "[encoded data removed]",
      "text/plain": [
       "<Figure size 800x600 with 1 Axes>"
      ]
     },
     "metadata": {},
     "output_type": "display_data"
    }
   ],
   "source": [
    "#Plot survival rate by fare\n",
    "plt.figure(figsize=(8,6))\n",
    "sns.barplot(x='FareClass', y='Survived', data=train, hue='FareClass', errorbar=None, order=['Very Low', 'Low', 'Moderate', 'Medium', 'High', 'Very High', 'Luxury'])\n",
    "plt.title('Survival rate by Fare Group')\n",
    "plt.ylabel('Survival Rate')\n",
    "plt.show()"
   ]
  },
  {
   "cell_type": "markdown",
   "id": "d963b2f7-072a-467c-ae99-d82377df83bc",
   "metadata": {},
   "source": [
    "# Data Preprocessing and Feature Engineering:"
   ]
  },
  {
   "cell_type": "markdown",
   "id": "b5d0bb93-b021-463a-b7c0-6f8e8ec33b3e",
   "metadata": {},
   "source": [
    "## Handling Missing Values: Age and Fare: Missing age values were imputed using the K-Nearest Neighbors (KNN) approach, leveraging information from similar observations to fill in gaps in the dataset. Fare values missing due to rare occurrences were replaced with the median fare.\n",
    "\n",
    "##    Embarked: Missing embarkation values were filled with the most frequent embarkation port recorded in the dataset.\n",
    "##    Cabin: Cabin information, initially sparse, was simplified by mapping cabins to their first letter and filling missing values with 'N', indicating no cabin data.\n",
    "\n",
    "##    Feature Engineering:\n",
    "\n",
    "##    Family Size: Created a 'Family' feature by summing 'Parch' (number of parents/children aboard) and 'SibSp' (number of siblings/spouses aboard), providing insight into passenger family relationships.\n",
    "##      Title Extraction: Extracted passenger titles (e.g., Mr., Mrs., Miss) from names, categorizing rare titles into a consolidated 'Rare' category and merging similar titles (e.g., 'Mlle' and 'Ms' into 'Miss').\n",
    "##    Age and Fare Categorization: Binned age and fare values into discrete categories ('Baby', 'Child', 'Teenager', 'Adult', 'OldAdult', 'Old' for age; 'Very Low' to 'Luxury' for fare), allowing for categorical analysis of survival trends based on age and economic status.\n",
    "##    Alone Status: Determined whether passengers traveled alone ('Alone') based on the absence of family members onboard.\n",
    "\n",
    "##    One-Hot Encoding:\n",
    "\n",
    "##    Transformed categorical variables such as 'Sex', 'Embarked', 'Title', and 'Cabin' into binary indicators using one\u0002hot encoding, facilitating the incorporation of categorical data into machine learning models without imposing ordinality.\n",
    "\n",
    "##    Feature Selection and Scaling:\n",
    "\n",
    "##    Selected relevant features including demographic attributes ('Age', 'Sex', 'Pclass'), family information ('Family', 'Alone'), socio-economic indicators ('Fare', 'Title'), and cabin categories.\n",
    "##    Scaled numeric features ('Age', 'Fare', 'Parch', 'SibSp') using standard scaling to normalize data distributions and ensure all features contribute equally to model training."
   ]
  },
  {
   "cell_type": "code",
   "execution_count": 32,
   "id": "e563d4dc-42f8-4cd4-948c-2922d34a9af0",
   "metadata": {},
   "outputs": [
    {
     "name": "stdout",
     "output_type": "stream",
     "text": [
      "Title\n",
      "Mr          517\n",
      "Miss        182\n",
      "Mrs         125\n",
      "Master       40\n",
      "Dr            7\n",
      "Rev           6\n",
      "Mlle          2\n",
      "Major         2\n",
      "Col           2\n",
      "Countess      1\n",
      "Capt          1\n",
      "Ms            1\n",
      "Sir           1\n",
      "Lady          1\n",
      "Mme           1\n",
      "Don           1\n",
      "Jonkheer      1\n",
      "Name: count, dtype: int64\n"
     ]
    }
   ],
   "source": [
    "train['Title'] = train['Name'].str.extract('([A-Za-z]+)\\\\.', expand=False)\n",
    "print(train['Title'].value_counts())"
   ]
  },
  {
   "cell_type": "code",
   "execution_count": 49,
   "id": "99f51228-fc05-4755-a071-87b5a183425f",
   "metadata": {},
   "outputs": [],
   "source": [
    "from sklearn.impute import KNNImputer\n",
    "from sklearn.preprocessing import StandardScaler\n",
    "\n",
    "def data_preprocessing(df):\n",
    "\n",
    "    df['Family'] = df['Parch'] + df['SibSp']\n",
    "    \n",
    "    # Extract titles from names\n",
    "    df['Title'] = df['Name'].str.extract(' ([A-Za-z]+)\\\\.', expand=False)\n",
    "    df['Title'] = df['Title'].replace(['Lady', 'Countess', 'Capt', 'Col', 'Don', \n",
    "                                       'Dr', 'Major', 'Rev', 'Sir', 'Jonkheer', 'Dona'], 'Rare')\n",
    "    df['Title'] = df['Title'].replace('Mlle', 'Miss')\n",
    "    df['Title'] = df['Title'].replace('Ms', 'Miss')\n",
    "    df['Title'] = df['Title'].replace('Mme', 'Mrs')\n",
    "\n",
    "    # Fill missing embarked with the most frequent value\n",
    "    df.fillna({'Embarked' : df['Embarked'].mode()[0]}, inplace=True)\n",
    "\n",
    "    # Fill missing fare with the median\n",
    "    df.fillna({'Fare' : df['Fare'].median()}, inplace=True)\n",
    "\n",
    "    # Create fare classes\n",
    "    df['Very Low'] = (df['Fare'] <= 4)\n",
    "    df['Low'] = (df['Fare'] > 4) & (df['Fare'] <= 15)\n",
    "    df['Moderate'] = (df['Fare'] > 15) & (df['Fare'] <= 25)\n",
    "    df['Medium'] = (df['Fare'] > 25) & (df['Fare'] <= 50)\n",
    "    df['High'] = (df['Fare'] > 50) & (df['Fare'] <= 100)\n",
    "    df['Very High'] = (df['Fare'] > 100) & (df['Fare'] <= 250)\n",
    "    df['Luxury'] = (df['Fare'] > 250)\n",
    "\n",
    "    # Convert cabin to first letter and fill missing values with 'N'\n",
    "    df['Cabin'] = df['Cabin'].fillna('N').map(lambda x: x[0])\n",
    "    \n",
    "    # Fill missing age with the median or using KNN Imputer\n",
    "    age_imputer = KNNImputer(n_neighbors=5)\n",
    "    df['Age'] = age_imputer.fit_transform(df[['Age']])\n",
    "    \n",
    "    # Create age categories\n",
    "    df['Baby'] = (df['Age'] <= 5)\n",
    "    df['Child'] = (df['Age'] > 5) & (df['Age'] <= 14)\n",
    "    df['Teenager'] = (df['Age'] > 14) & (df['Age'] <= 18)\n",
    "    df['Adult'] = (df['Age'] > 18) & (df['Age'] <= 30)\n",
    "    df['OldAdult'] = (df['Age'] > 30) & (df['Age'] <= 60)\n",
    "    df['Old'] = (df['Age'] > 60)\n",
    "    df['Alone'] = df['Family'] == 0\n",
    "    \n",
    "    # One-hot encoding\n",
    "    df = pd.get_dummies(df, columns=['Sex', 'Embarked', 'Title', 'Cabin'], drop_first=True)\n",
    "    #in case there is a cabin that was not mentioned, create it and fill it with False\n",
    "    for l in ['A', 'B', 'C', 'D', 'E', 'F', 'G', 'T']:\n",
    "        col = f'Cabin_{l}'\n",
    "        if col not in df.columns:\n",
    "            df[col] = pd.Series([False]*df.shape[0])\n",
    "            df.fillna({'col': False}, inplace=True)\n",
    "    \n",
    "    # Select relevant columns\n",
    "    cols = ['Age', 'Fare', 'Family', 'Parch', 'SibSp', 'Alone', 'Pclass', 'Very Low', 'Low', 'Moderate', 'Medium',\n",
    "       'High', 'Very High', 'Luxury', 'Baby', 'Child', 'Teenager',\n",
    "       'Adult', 'OldAdult', 'Old', 'Sex_male',\n",
    "       'Embarked_Q', 'Embarked_S', 'Title_Miss', 'Title_Mr', 'Title_Mrs',\n",
    "       'Title_Rare', 'Cabin_A', 'Cabin_B', 'Cabin_C', 'Cabin_D', 'Cabin_E', 'Cabin_F',\n",
    "       'Cabin_G', 'Cabin_T'] #Cabin_N was ignored\n",
    "    df2 = df[cols].copy()\n",
    "    \n",
    "    # Scale numeric features\n",
    "    numeric_features = ['Age', 'Fare', 'Parch', 'SibSp']\n",
    "    scaler = StandardScaler()\n",
    "    df2[numeric_features] = scaler.fit_transform(df2[numeric_features])\n",
    "    \n",
    "    return df2"
   ]
  },
  {
   "cell_type": "code",
   "execution_count": 51,
   "id": "bc1cb323-d341-4548-a612-0375875914a5",
   "metadata": {},
   "outputs": [],
   "source": [
    "# Perform data preprocessing and feature engineering (assuming you've already done this)\n",
    "train_processed = data_preprocessing(train)\n",
    "\n",
    "# Define features and target variable\n",
    "X = train_processed\n",
    "y = train['Survived']"
   ]
  },
  {
   "cell_type": "markdown",
   "id": "59387ad1-a684-40e9-b2d8-c80c22787e98",
   "metadata": {},
   "source": [
    "# Train Test Split"
   ]
  },
  {
   "cell_type": "code",
   "execution_count": 56,
   "id": "76bb3b53-bc32-4a18-b9f3-7bb66988f0c8",
   "metadata": {},
   "outputs": [],
   "source": [
    "from sklearn.model_selection import train_test_split\n",
    "\n",
    "# Split the data into train and test sets (80% train, 20% test)\n",
    "X_train, X_test, y_train, y_test = train_test_split(X, y, test_size=0.2)"
   ]
  },
  {
   "cell_type": "code",
   "execution_count": 34,
   "id": "ec690544-ae5e-4124-bfcf-b03643e5ef31",
   "metadata": {},
   "outputs": [
    {
     "name": "stdout",
     "output_type": "stream",
     "text": [
      "Requirement already satisfied: xgboost in c:\\users\\kodavatigeetanjali\\anaconda3\\lib\\site-packages (2.1.1)\n",
      "Requirement already satisfied: numpy in c:\\users\\kodavatigeetanjali\\anaconda3\\lib\\site-packages (from xgboost) (1.26.4)\n",
      "Requirement already satisfied: scipy in c:\\users\\kodavatigeetanjali\\anaconda3\\lib\\site-packages (from xgboost) (1.13.1)\n",
      "Note: you may need to restart the kernel to use updated packages.\n"
     ]
    }
   ],
   "source": [
    "pip install xgboost"
   ]
  },
  {
   "cell_type": "markdown",
   "id": "00e98818-69f1-45ad-b73f-ac28d5284e67",
   "metadata": {},
   "source": [
    "# **Build Models**"
   ]
  },
  {
   "cell_type": "code",
   "execution_count": 60,
   "id": "19e2d978-79fa-4a88-bec1-25b7b62bbeff",
   "metadata": {},
   "outputs": [],
   "source": [
    "# apply all single  (Logistic regression,  KNN, Naive bayies, SVM, Decision tree), ensemble (RF, Extratrees, bagging m XGBoosting , gradient boosting , adaboost , voting , and stacking) ML models usign grid search\n",
    "\n",
    "from sklearn.linear_model import LogisticRegression\n",
    "from sklearn.neighbors import KNeighborsClassifier\n",
    "from sklearn.naive_bayes import GaussianNB\n",
    "from sklearn.svm import SVC\n",
    "from sklearn.tree import DecisionTreeClassifier\n",
    "from sklearn.ensemble import RandomForestClassifier, ExtraTreesClassifier, BaggingClassifier, AdaBoostClassifier, GradientBoostingClassifier, VotingClassifier\n",
    "from xgboost import XGBClassifier\n",
    "from sklearn.model_selection import GridSearchCV, cross_val_score, StratifiedKFold\n",
    "from sklearn.metrics import accuracy_score, classification_report\n",
    "\n",
    "# Single Models\n",
    "models = {\n",
    "    'Logistic Regression': LogisticRegression(),\n",
    "    'KNN': KNeighborsClassifier(),\n",
    "    'Naive Bayes': GaussianNB(),\n",
    "    'SVM': SVC(),\n",
    "    'Decision Tree': DecisionTreeClassifier()\n",
    "}\n",
    "\n",
    "# Ensemble Models\n",
    "ensemble_models = {\n",
    "    'Random Forest': RandomForestClassifier(),\n",
    "    'Extra Trees': ExtraTreesClassifier(),\n",
    "    'Bagging': BaggingClassifier(),\n",
    "    'AdaBoost': AdaBoostClassifier(),\n",
    "    'Gradient Boosting': GradientBoostingClassifier(),\n",
    "    'XGBoost': XGBClassifier()\n",
    "}\n",
    "\n",
    "# Hyperparameter Grids (Example - Customize for each model)\n",
    "param_grids = {\n",
    "    'Logistic Regression': {'C': [0.1, 1, 10]},\n",
    "    'KNN': {'n_neighbors': [3, 5, 7]},\n",
    "    'Naive Bayes': {}, # Add an empty dictionary for Naive Bayes since it doesn't usually require hyperparameter tuning\n",
    "    'SVM': {'C': [0.1, 1, 10], 'kernel': ['linear', 'rbf']},\n",
    "    'Decision Tree': {'max_depth': [None, 5, 10]},\n",
    "    'Random Forest': {'n_estimators': [50, 100, 200]},\n",
    "    'Extra Trees': {'n_estimators': [50, 100, 200]},\n",
    "    'Bagging': {'n_estimators': [10, 20, 30]},\n",
    "    'AdaBoost': {'n_estimators': [50, 100, 200]},\n",
    "    'Gradient Boosting': {'n_estimators': [50, 100, 200]},\n",
    "    'XGBoost': {'n_estimators': [50, 100, 200], 'learning_rate': [0.01, 0.1, 0.2]}\n",
    "}\n",
    "\n",
    "# Cross-validation strategy\n",
    "cv = StratifiedKFold(n_splits=5, shuffle=True, random_state=42)"
   ]
  },
  {
   "cell_type": "code",
   "execution_count": 111,
   "id": "752cda4c-efb3-4ea9-84bf-200dea6cff3c",
   "metadata": {},
   "outputs": [
    {
     "name": "stdout",
     "output_type": "stream",
     "text": [
      "Logistic Regression: Best Parameters - {'C': 10}, Best Score - 0.8216586230670739\n",
      "KNN: Best Parameters - {'n_neighbors': 7}, Best Score - 0.776716241504974\n",
      "Naive Bayes: Best Parameters - {}, Best Score - 0.5923470895301881\n",
      "SVM: Best Parameters - {'C': 10, 'kernel': 'linear'}, Best Score - 0.8258938244853737\n",
      "Decision Tree: Best Parameters - {'max_depth': 5}, Best Score - 0.8047572146163695\n",
      "Random Forest: Best Parameters - {'n_estimators': 100}, Best Score - 0.8146853146853147\n",
      "Extra Trees: Best Parameters - {'n_estimators': 200}, Best Score - 0.8006008076430613\n",
      "Bagging: Best Parameters - {'n_estimators': 10}, Best Score - 0.8315473259135231\n",
      "AdaBoost: Best Parameters - {'n_estimators': 200}, Best Score - 0.8048064611444893\n",
      "Gradient Boosting: Best Parameters - {'n_estimators': 100}, Best Score - 0.8357135821924555\n",
      "XGBoost: Best Parameters - {'learning_rate': 0.1, 'n_estimators': 50}, Best Score - 0.834295282182606\n"
     ]
    }
   ],
   "source": [
    "from sklearn.preprocessing import StandardScaler\n",
    "from sklearn.metrics import accuracy_score\n",
    "import warnings\n",
    "warnings.filterwarnings('ignore')\n",
    "\n",
    "X_train_scaled = StandardScaler().fit_transform(X_train)\n",
    "X_test_scaled  = StandardScaler().fit(X_test)\n",
    "\n",
    "results = [] \n",
    "\n",
    "# Model Evaluation and Selection\n",
    "best_models = {}\n",
    "for name, model in models.items():\n",
    "    grid_search = GridSearchCV(model, param_grids[name], cv=cv, scoring='accuracy')\n",
    "    grid_search.fit(X_train_scaled, y_train)\n",
    "    best_models[name] = grid_search.best_estimator_\n",
    "    print(f\"{name}: Best Parameters - {grid_search.best_params_}, Best Score - {grid_search.best_score_}\")\n",
    "\n",
    "for name, model in ensemble_models.items():\n",
    "    grid_search = GridSearchCV(model, param_grids[name], cv=cv, scoring='accuracy')\n",
    "    grid_search.fit(X_train_scaled, y_train)\n",
    "    best_models[name] = grid_search.best_estimator_\n",
    "    print(f\"{name}: Best Parameters - {grid_search.best_params_}, Best Score - {grid_search.best_score_}\")\n",
    "    results.append({'Model': name, 'Best Parameters': grid_search.best_params_, 'Best Score': grid_search.best_score_})"
   ]
  },
  {
   "cell_type": "code",
   "execution_count": 119,
   "id": "1858bf60-011c-41c3-98f3-bdff6a7dd2af",
   "metadata": {},
   "outputs": [
    {
     "name": "stdout",
     "output_type": "stream",
     "text": [
      "               Model                             Best Parameters  Best Score\n",
      "1        Extra Trees                       {'n_estimators': 200}    0.800601\n",
      "3           AdaBoost                       {'n_estimators': 200}    0.804806\n",
      "0      Random Forest                       {'n_estimators': 100}    0.814685\n",
      "2            Bagging                        {'n_estimators': 10}    0.831547\n",
      "5            XGBoost  {'learning_rate': 0.1, 'n_estimators': 50}    0.834295\n",
      "4  Gradient Boosting                       {'n_estimators': 100}    0.835714\n"
     ]
    }
   ],
   "source": [
    "results_df = pd.DataFrame(results)\n",
    "print(results_df.sort_values(by='Best Score'))"
   ]
  },
  {
   "cell_type": "code",
   "execution_count": 129,
   "id": "d46a5cc5-b310-4814-a059-638138d83aa8",
   "metadata": {},
   "outputs": [
    {
     "data": {
      "image/png": "[encoded data removed]",
      "text/plain": [
       "<Figure size 800x600 with 1 Axes>"
      ]
     },
     "metadata": {},
     "output_type": "display_data"
    }
   ],
   "source": [
    "#Plot results\n",
    "plt.figure(figsize=(8,6))\n",
    "sns.barplot(x='Model', y='Best Score', data=results_df, hue='Model', errorbar=None)\n",
    "plt.title('Model Prediction')\n",
    "plt.ylabel('Best Score')\n",
    "plt.show()"
   ]
  },
  {
   "cell_type": "code",
   "execution_count": 123,
   "id": "59cac5dc-a99d-4c24-95ca-dc203fc391d9",
   "metadata": {},
   "outputs": [
    {
     "name": "stdout",
     "output_type": "stream",
     "text": [
      "--- Voting Classifier ---\n",
      "Accuracy: 0.6145\n",
      "Classification Report:\n",
      "              precision    recall  f1-score   support\n",
      "\n",
      "           0     0.6124    1.0000    0.7596       109\n",
      "           1     1.0000    0.0143    0.0282        70\n",
      "\n",
      "    accuracy                         0.6145       179\n",
      "   macro avg     0.8062    0.5071    0.3939       179\n",
      "weighted avg     0.7640    0.6145    0.4736       179\n",
      "\n",
      "Confusion Matrix:\n",
      "[[109   0]\n",
      " [ 69   1]]\n"
     ]
    }
   ],
   "source": [
    "from sklearn.metrics import confusion_matrix\n",
    "\n",
    "# Predict using the best Voting model\n",
    "y_pred = best_models['Gradient Boosting'].predict(X_test)\n",
    "\n",
    "# Evaluate the model's performance\n",
    "accuracy = accuracy_score(y_test, y_pred)\n",
    "report = classification_report(y_test, y_pred, digits=4)\n",
    "matrix = confusion_matrix(y_test, y_pred)\n",
    "\n",
    "# Print the results\n",
    "print(f\"--- Voting Classifier ---\")\n",
    "print(f\"Accuracy: {accuracy:.4f}\")\n",
    "print(f\"Classification Report:\\n{report}\")\n",
    "print(f\"Confusion Matrix:\\n{matrix}\")"
   ]
  },
  {
   "cell_type": "code",
   "execution_count": 131,
   "id": "6440b8b4-6e37-4523-b085-88b6e177b563",
   "metadata": {},
   "outputs": [
    {
     "name": "stdout",
     "output_type": "stream",
     "text": [
      "--- Voting Classifier ---\n",
      "Accuracy: 0.6816\n",
      "Classification Report:\n",
      "              precision    recall  f1-score   support\n",
      "\n",
      "           0     0.6757    0.9174    0.7782       109\n",
      "           1     0.7097    0.3143    0.4356        70\n",
      "\n",
      "    accuracy                         0.6816       179\n",
      "   macro avg     0.6927    0.6159    0.6069       179\n",
      "weighted avg     0.6890    0.6816    0.6442       179\n",
      "\n",
      "Confusion Matrix:\n",
      "[[100   9]\n",
      " [ 48  22]]\n"
     ]
    }
   ],
   "source": [
    "from sklearn.metrics import confusion_matrix\n",
    "\n",
    "# Predict using the best Voting model\n",
    "y_pred = best_models['XGBoost'].predict(X_test)\n",
    "\n",
    "# Evaluate the model's performance\n",
    "accuracy = accuracy_score(y_test, y_pred)\n",
    "report = classification_report(y_test, y_pred, digits=4)\n",
    "matrix = confusion_matrix(y_test, y_pred)\n",
    "\n",
    "# Print the results\n",
    "print(f\"--- Voting Classifier ---\")\n",
    "print(f\"Accuracy: {accuracy:.4f}\")\n",
    "print(f\"Classification Report:\\n{report}\")\n",
    "print(f\"Confusion Matrix:\\n{matrix}\")"
   ]
  },
  {
   "cell_type": "code",
   "execution_count": null,
   "id": "42caafe8-9ff5-40c1-9481-fafd7c46c1d3",
   "metadata": {},
   "outputs": [],
   "source": []
  }
 ],
 "metadata": {
  "kernelspec": {
   "display_name": "Python 3 (ipykernel)",
   "language": "python",
   "name": "python3"
  },
  "language_info": {
   "codemirror_mode": {
    "name": "ipython",
    "version": 3
   },
   "file_extension": ".py",
   "mimetype": "text/x-python",
   "name": "python",
   "nbconvert_exporter": "python",
   "pygments_lexer": "ipython3",
   "version": "3.12.4"
  }
 },
 "nbformat": 4,
 "nbformat_minor": 5
}
